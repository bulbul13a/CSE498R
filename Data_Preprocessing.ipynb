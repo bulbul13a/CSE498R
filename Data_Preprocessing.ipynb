{
 "cells": [
  {
   "cell_type": "code",
   "execution_count": 2,
   "metadata": {},
   "outputs": [],
   "source": [
    "from os import listdir\n",
    "import pandas as pd\n",
    "import csv\n",
    "import glob"
   ]
  },
  {
   "cell_type": "code",
   "execution_count": 3,
   "metadata": {},
   "outputs": [],
   "source": [
    "training_a = sorted(listdir('training_A/'))\n",
    "\n",
    "training_b = sorted(listdir('training_B/'))"
   ]
  },
  {
   "cell_type": "code",
   "execution_count": 4,
   "metadata": {},
   "outputs": [
    {
     "data": {
      "text/plain": [
       "(44, 41)"
      ]
     },
     "execution_count": 4,
     "metadata": {},
     "output_type": "execute_result"
    }
   ],
   "source": [
    "\n",
    "dummy = pd.read_csv('training_A/p000902.psv', sep ='|')\n",
    "dummy.shape"
   ]
  },
  {
   "cell_type": "code",
   "execution_count": 12,
   "metadata": {},
   "outputs": [],
   "source": [
    "with open(\"training_dataset.psv\", \"wb\") as fout:\n",
    "    \n",
    "    for i, csv in enumerate(training_a):\n",
    "        if i == 0:\n",
    "            with open('training_A/' + csv, \"rb\") as f:\n",
    "                fout.write(f.read())\n",
    "      # now the rest:    \n",
    "        with open('training_A/' + csv, \"rb\") as f:\n",
    "            next(f) \n",
    "            fout.write(f.read())\n",
    "      \n",
    "    for i,csv in enumerate(training_b):\n",
    "        if i <15000:\n",
    "            with open('training_B/' + csv, \"rb\") as f:\n",
    "                next(f)\n",
    "                fout.write(f.read())"
   ]
  },
  {
   "cell_type": "code",
   "execution_count": 15,
   "metadata": {},
   "outputs": [],
   "source": [
    "sample_data1 = pd.read_csv('training_dataset.psv', sep ='|')"
   ]
  },
  {
   "cell_type": "code",
   "execution_count": 16,
   "metadata": {},
   "outputs": [
    {
     "name": "stdout",
     "output_type": "stream",
     "text": [
      "      HR  O2Sat  Temp    SBP    MAP  DBP  Resp  EtCO2  BaseExcess  HCO3  ...  \\\n",
      "0    NaN    NaN   NaN    NaN    NaN  NaN   NaN    NaN         NaN   NaN  ...   \n",
      "1   97.0   95.0   NaN   98.0  75.33  NaN  19.0    NaN         NaN   NaN  ...   \n",
      "2   89.0   99.0   NaN  122.0  86.00  NaN  22.0    NaN         NaN   NaN  ...   \n",
      "3   90.0   95.0   NaN    NaN    NaN  NaN  30.0    NaN        24.0   NaN  ...   \n",
      "4  103.0   88.5   NaN  122.0  91.33  NaN  24.5    NaN         NaN   NaN  ...   \n",
      "\n",
      "   WBC  Fibrinogen  Platelets    Age  Gender  Unit1  Unit2  HospAdmTime  \\\n",
      "0  NaN         NaN        NaN  83.14       0    NaN    NaN        -0.03   \n",
      "1  NaN         NaN        NaN  83.14       0    NaN    NaN        -0.03   \n",
      "2  NaN         NaN        NaN  83.14       0    NaN    NaN        -0.03   \n",
      "3  NaN         NaN        NaN  83.14       0    NaN    NaN        -0.03   \n",
      "4  NaN         NaN        NaN  83.14       0    NaN    NaN        -0.03   \n",
      "\n",
      "   ICULOS  SepsisLabel  \n",
      "0       1            0  \n",
      "1       2            0  \n",
      "2       3            0  \n",
      "3       4            0  \n",
      "4       5            0  \n",
      "\n",
      "[5 rows x 41 columns]\n"
     ]
    }
   ],
   "source": [
    "print(sample_data1.head())"
   ]
  },
  {
   "cell_type": "code",
   "execution_count": 8,
   "metadata": {},
   "outputs": [
    {
     "data": {
      "text/plain": [
       "(1361672, 41)"
      ]
     },
     "execution_count": 8,
     "metadata": {},
     "output_type": "execute_result"
    }
   ],
   "source": [
    "sample_data1.shape"
   ]
  },
  {
   "cell_type": "code",
   "execution_count": 17,
   "metadata": {},
   "outputs": [],
   "source": [
    "with open(\"testing_dataset.psv\", \"wb\") as fout:\n",
    "    \n",
    "    for i, csv in enumerate(training_b):\n",
    "        if i >= 15000:\n",
    "            if i == 15000:\n",
    "                with open('training_B/' + csv, \"rb\") as f:\n",
    "                    fout.write(f.read())   \n",
    "            with open('training_B/' + csv, \"rb\") as f:\n",
    "                next(f) \n",
    "                fout.write(f.read())"
   ]
  },
  {
   "cell_type": "code",
   "execution_count": 18,
   "metadata": {},
   "outputs": [],
   "source": [
    "test = pd.read_csv('testing_dataset.psv', sep='|')"
   ]
  },
  {
   "cell_type": "code",
   "execution_count": 11,
   "metadata": {},
   "outputs": [
    {
     "data": {
      "text/plain": [
       "(190615, 41)"
      ]
     },
     "execution_count": 11,
     "metadata": {},
     "output_type": "execute_result"
    }
   ],
   "source": [
    "test.shape"
   ]
  },
  {
   "cell_type": "code",
   "execution_count": null,
   "metadata": {},
   "outputs": [],
   "source": []
  }
 ],
 "metadata": {
  "kernelspec": {
   "display_name": "Python 3",
   "language": "python",
   "name": "python3"
  },
  "language_info": {
   "codemirror_mode": {
    "name": "ipython",
    "version": 3
   },
   "file_extension": ".py",
   "mimetype": "text/x-python",
   "name": "python",
   "nbconvert_exporter": "python",
   "pygments_lexer": "ipython3",
   "version": "3.8.5"
  }
 },
 "nbformat": 4,
 "nbformat_minor": 4
}
